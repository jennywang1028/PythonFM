{
 "cells": [
  {
   "cell_type": "code",
   "execution_count": 1,
   "metadata": {
    "collapsed": true
   },
   "outputs": [],
   "source": [
    "# from BatchGD import *\n",
    "import cProfile\n",
    "import torch\n",
    "from numpy import dot, isinf, isnan, any, sqrt, isreal, real, nan, inf\n",
    "import numpy as np\n",
    "import scipy as sp\n",
    "import processData\n",
    "import matplotlib.pyplot as plt\n",
    "from sklearn.feature_extraction import DictVectorizer\n",
    "from scipy import sparse as spa\n",
    "from scipy import stats\n",
    "import time\n",
    "from minimize import minimize\n",
    "from __future__ import division"
   ]
  },
  {
   "cell_type": "code",
   "execution_count": 2,
   "metadata": {},
   "outputs": [
    {
     "name": "stdout",
     "output_type": "stream",
     "text": [
      "<class 'numpy.ndarray'> (90570, 2623)\n",
      "<class 'numpy.ndarray'> (90570,)\n",
      "<class 'numpy.ndarray'> (9430, 2623)\n",
      "<class 'numpy.ndarray'> (9430,)\n"
     ]
    }
   ],
   "source": [
    "def loadData(filename,path=\"../ml-100k/\"):\n",
    "    data = []\n",
    "    y = []\n",
    "    users=set()\n",
    "    items=set()\n",
    "    with open(path+filename) as f:\n",
    "        for line in f:\n",
    "            (user,movieid,rating,ts)=line.split('\\t')\n",
    "            data.append({ \"user_id\": str(user), \"movie_id\": str(movieid)})\n",
    "            y.append(float(rating))\n",
    "            users.add(user)\n",
    "            items.add(movieid)\n",
    "\n",
    "    return (data, np.array(y), users, items)\n",
    "\n",
    "(train_data, y_train, train_users, train_items) = loadData(\"ua.base\")\n",
    "(test_data, y_test, test_users, test_items) = loadData(\"ua.test\")\n",
    "v = DictVectorizer()\n",
    "X_train = v.fit_transform(train_data)\n",
    "X_test = v.transform(test_data)\n",
    "y_train = y_train\n",
    "y_train = np.array(y_train)\n",
    "y_test = y_test\n",
    "\n",
    "X_train = np.array(X_train.todense())\n",
    "X_test = np.array(X_test.todense())\n",
    "print(X_train.__class__, X_train.shape)\n",
    "print(y_train.__class__, y_train.shape)\n",
    "print(X_test.__class__, X_test.shape)\n",
    "print(y_test.__class__, y_test.shape)"
   ]
  },
  {
   "cell_type": "code",
   "execution_count": 3,
   "metadata": {},
   "outputs": [
    {
     "name": "stdout",
     "output_type": "stream",
     "text": [
      "(943, 1664)\n"
     ]
    }
   ],
   "source": [
    "data_test = open(\"../ml-100k/ua.test\", \"r\").read().split(\"\\n\")[:-1]\n",
    "data_train = open(\"../ml-100k/ua.base\", \"r\").read().split(\"\\n\")[:-1]\n",
    "\n",
    "def loadData2(data):\n",
    "    A = np.zeros( (943, 1682))\n",
    "    max = -1\n",
    "    for dat in data:\n",
    "        # print dat\n",
    "        myDat = dat.split(\"\\t\")\n",
    "        myDat = [int(k) for k in myDat]\n",
    "        # print myDat[0], myDat[1], myDat[2]\n",
    "        if(myDat[1] > max):\n",
    "            max = myDat[1]\n",
    "        A[myDat[0]-1][myDat[1]-1] = myDat[2]\n",
    "    return A[:, 0:max]\n",
    "\n",
    "datasTrain = loadData2(data_train)\n",
    "datasTest = loadData2(data_test)\n",
    "print(datasTest.shape)"
   ]
  },
  {
   "cell_type": "code",
   "execution_count": 4,
   "metadata": {},
   "outputs": [],
   "source": [
    "def predFix(datas, test, fix):\n",
    "    if fix == \"row\":\n",
    "        res = np.zeros( (datas.shape[0], test.shape[1]) )\n",
    "        for i in range(datas.shape[0]):\n",
    "            sum = 0.0\n",
    "            count = 0.0\n",
    "            for j in range(datas.shape[1]):\n",
    "                if(datas[i][j] != 0):\n",
    "                    sum += datas[i][j]\n",
    "                    count += 1\n",
    "            res[i, :].fill(sum / count)\n",
    "    else:\n",
    "        res = np.zeros( (datas.shape[0], test.shape[1]))\n",
    "        for i in range (test.shape[1]):\n",
    "            sum = 0.0\n",
    "            count = 0.0\n",
    "            for j in range(datas.shape[0]):\n",
    "                if(datas[j][i] != 0):\n",
    "                    sum += datas[j][i]\n",
    "                    count += 1\n",
    "            if count == 0:\n",
    "                res[:,i].fill(0)\n",
    "            else:\n",
    "                res[:,i].fill (sum / count)\n",
    "    return res"
   ]
  },
  {
   "cell_type": "code",
   "execution_count": 39,
   "metadata": {},
   "outputs": [
    {
     "name": "stdout",
     "output_type": "stream",
     "text": [
      "[ 2.90909091  2.90909091  2.90909091 ...,  2.90909091  2.90909091\n",
      "  2.90909091]\n"
     ]
    }
   ],
   "source": [
    "predUser = predFix(datasTrain,datasTest, \"row\")\n",
    "predMovie = predFix(datasTrain,datasTest, \"col\")\n",
    "print(predUser[2])"
   ]
  },
  {
   "cell_type": "code",
   "execution_count": 46,
   "metadata": {
    "collapsed": true
   },
   "outputs": [],
   "source": [
    "def extractPred(preds, test, length):\n",
    "    t = 0\n",
    "    res = np.zeros(length)\n",
    "    for i in range(test.shape[0]):\n",
    "        for j in range(test.shape[1]):\n",
    "            if(test[i][j] != 0):\n",
    "                res[t] = preds[i][j]\n",
    "                t += 1\n",
    "    return res\n",
    "\n",
    "def RMSE(y, pred):\n",
    "    diff = (y - pred) ** 2\n",
    "    res = np.sqrt( np.mean(diff) )\n",
    "    return res"
   ]
  },
  {
   "cell_type": "code",
   "execution_count": 47,
   "metadata": {},
   "outputs": [
    {
     "name": "stdout",
     "output_type": "stream",
     "text": [
      "9430\n"
     ]
    }
   ],
   "source": [
    "predUsers = extractPred(predUser, datasTest, len(y_test))\n",
    "predMovies = extractPred(predMovie, datasTest, len(y_test))\n",
    "print(len(predUsers))\n",
    "# print(RMSE(y_test, extractPred(predUser, datasTest) ))"
   ]
  },
  {
   "cell_type": "code",
   "execution_count": 48,
   "metadata": {},
   "outputs": [
    {
     "name": "stdout",
     "output_type": "stream",
     "text": [
      "1.0431349636\n"
     ]
    }
   ],
   "source": [
    "print(RMSE(y_test, predUsers))"
   ]
  },
  {
   "cell_type": "code",
   "execution_count": 49,
   "metadata": {},
   "outputs": [
    {
     "name": "stdout",
     "output_type": "stream",
     "text": [
      "1.04265262564\n"
     ]
    }
   ],
   "source": [
    "print(RMSE(y_test, predMovies))"
   ]
  },
  {
   "cell_type": "code",
   "execution_count": 50,
   "metadata": {},
   "outputs": [
    {
     "name": "stdout",
     "output_type": "stream",
     "text": [
      "0.993910632559\n"
     ]
    }
   ],
   "source": [
    "print(RMSE(y_test, (predMovies + predUsers) /2 ))"
   ]
  },
  {
   "cell_type": "code",
   "execution_count": null,
   "metadata": {
    "collapsed": true
   },
   "outputs": [],
   "source": []
  }
 ],
 "metadata": {
  "kernelspec": {
   "display_name": "Python 3",
   "language": "python",
   "name": "python3"
  },
  "language_info": {
   "codemirror_mode": {
    "name": "ipython",
    "version": 3
   },
   "file_extension": ".py",
   "mimetype": "text/x-python",
   "name": "python",
   "nbconvert_exporter": "python",
   "pygments_lexer": "ipython3",
   "version": "3.6.1"
  }
 },
 "nbformat": 4,
 "nbformat_minor": 2
}
