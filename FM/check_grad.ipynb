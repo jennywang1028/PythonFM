{
 "cells": [
  {
   "cell_type": "markdown",
   "metadata": {},
   "source": [
    "# Check our calculation of all gradients"
   ]
  },
  {
   "cell_type": "code",
   "execution_count": 1,
   "metadata": {
    "collapsed": true
   },
   "outputs": [],
   "source": [
    "import numpy as np\n",
    "import scipy as sp\n",
    "#import processData\n",
    "import matplotlib.pyplot as plt\n",
    "from sklearn.feature_extraction import DictVectorizer\n",
    "from scipy import sparse as spa\n",
    "from scipy import stats\n",
    "from scipy.optimize import check_grad\n",
    "import time"
   ]
  },
  {
   "cell_type": "code",
   "execution_count": 2,
   "metadata": {
    "collapsed": true
   },
   "outputs": [],
   "source": [
    "nb_epochs = 300\n",
    "k = 4\n",
    "learning_rate = 0.05"
   ]
  },
  {
   "cell_type": "code",
   "execution_count": 3,
   "metadata": {
    "collapsed": true
   },
   "outputs": [],
   "source": [
    "def predictionForOne(x, x2, w0, W, V_T, V2_T):\n",
    "    res1 = np.sum(V_T.dot(x) ** 2)\n",
    "    res2 = np.sum(V2_T.dot(x2))\n",
    "    return w0 + W.dot(x) + 0.5 * (res1 - res2)\n",
    "\n",
    "'''\n",
    "Generates prediction y for given X, w0, W, V following the definition of factorization machine\n",
    "'''\n",
    "def prediction(X,w0,W,V):\n",
    "    n, m = X.shape\n",
    "    X2 = X ** 2\n",
    "    V_T = V.T\n",
    "    V2_T = (V**2).T\n",
    "    return [predictionForOne(X[i], X2[i], w0, W, V_T, V2_T) for i in range(n)]\n",
    "\n",
    "def L(Y, prediction, reg_weight = 0.01,loss = \"squared\"):\n",
    "    if(loss == \"squared\"):\n",
    "        n = Y.size\n",
    "        loss = np.sum((Y - prediction) ** 2)/n\n",
    "        regularizer = reg_weight * W.dot(W)\n",
    "        return loss + regularizer\n",
    "\n",
    "def crtness(Y, prediction):\n",
    "    n = Y.size\n",
    "    prediction = np.round(prediction)\n",
    "    prediction = prediction.astype(int)\n",
    "    return (n - np.count_nonzero(Y - prediction)) / float(n)\n",
    "\n",
    "def softcrtness(Y, prediction):\n",
    "    n = Y.size\n",
    "    prediction = np.round(prediction)\n",
    "    prediction = prediction.astype(int)\n",
    "    soft_crt = 0\n",
    "    for i in range(len(Y)):\n",
    "        if(abs(Y[i] - prediction[i]) <= 1):\n",
    "            soft_crt += 1\n",
    "    return soft_crt/float(n)\n",
    "\n",
    "def avgdist(Y, prediction):\n",
    "    n = Y.size\n",
    "    return np.mean(np.abs(Y - prediction))\n",
    "\n",
    "def evaluateGradient2(X, w0, W, V, Y, k, reg_weight = 0.05):\n",
    "    Y = np.array(Y)\n",
    "    n,m = X.shape\n",
    "    pred = prediction(X, w0, W, V)\n",
    "    pred = np.array(pred).flatten()\n",
    "    regularizer = reg_weight * W.dot(W)\n",
    "    diff = Y - pred\n",
    "\n",
    "    dLdw0 = - np.sum(diff) * 2 / n\n",
    "    dLdWi = -2.0/n * (diff.dot(X)).flatten() + 2 * reg_weight * W\n",
    "    \n",
    "    start_time = time.time() # evaluate running time\n",
    "\n",
    "    dLdV = np.zeros((m, k))\n",
    "    XV = X.dot(V) \n",
    "    for i in range(m):\n",
    "        temp = np.array(X[:,i]).reshape(-1)\n",
    "        temp2 = temp ** 2\n",
    "        for f in range(k):\n",
    "            v_ifX = V[i][f] * temp2\n",
    "            Xv_ifX = temp * (XV[:,f].reshape(-1))\n",
    "            dLdV[i][f] = diff.dot(v_ifX - Xv_ifX)\n",
    "    dLdV = dLdV * 2.0 / n\n",
    "    return dLdw0, dLdWi, dLdV"
   ]
  },
  {
   "cell_type": "markdown",
   "metadata": {},
   "source": [
    "## Check gradient for w0"
   ]
  },
  {
   "cell_type": "code",
   "execution_count": 4,
   "metadata": {
    "collapsed": true
   },
   "outputs": [],
   "source": [
    "X = np.array([\n",
    "    [1, 0, 0, 1, 0, 0, 0, 0, 0, 1, 0, 0, 1],\n",
    "    [1, 0, 0, 0, 1, 0, 0, 1, 0, 0, 0, 0, 0],\n",
    "    [1, 0, 0, 0, 0, 1, 0, 0, 1, 0, 0, 0.5, 0.5],\n",
    "    [0, 1, 0, 0, 0, 1, 0, 0, 1, 0, 0.5, 0, 0.5],\n",
    "    [0, 1, 0, 0, 0, 0, 1, 0, 0, 1, 0, 0, 0],\n",
    "    [0, 0, 1, 1, 0, 0, 0, 1, 0, 0, 1, 0, 0],\n",
    "    [0, 0, 1, 0, 0, 1, 0, 0, 0, 1, 0.5, 0.5, 0]\n",
    "    ])\n",
    "n, m = X.shape\n",
    "Y = np.array([5, 3, 1, 4, 5, 1, 5])\n",
    "W  = np.random.rand(m)\n",
    "k = 4\n",
    "V  = np.random.rand(m, k)\n",
    "\n",
    "def funw0(w0, X = X, Y = Y, W = W, k = k, reg_weight = 0.01,loss = \"squared\"):\n",
    "    pred = prediction (X, w0[0], W, V)\n",
    "    if(loss == \"squared\"):\n",
    "        n = Y.size\n",
    "        loss = np.sum((Y - pred) ** 2)/n\n",
    "        regularizer = reg_weight * W.dot(W)\n",
    "        return loss + regularizer\n",
    "    \n",
    "def gradw0 (w0, X = X, Y = Y, W = W, k = k, reg_weight = 0.05):\n",
    "    Y = np.array(Y)\n",
    "    n,m = X.shape\n",
    "    pred = prediction(X, w0[0], W, V)\n",
    "    pred = np.array(pred).flatten()\n",
    "    regularizer = reg_weight * W.dot(W)\n",
    "    diff = Y - pred\n",
    "    dLdw0 = - np.sum(diff) * 2 / n\n",
    "    return [dLdw0]\n"
   ]
  },
  {
   "cell_type": "code",
   "execution_count": 5,
   "metadata": {},
   "outputs": [
    {
     "name": "stdout",
     "output_type": "stream",
     "text": [
      "1.38807996208e-07\n"
     ]
    }
   ],
   "source": [
    "w0 = np.random.rand()\n",
    "errw0 = check_grad (funw0, gradw0, [w0])\n",
    "print(errw0)"
   ]
  },
  {
   "cell_type": "markdown",
   "metadata": {},
   "source": [
    "## Check gradient for W"
   ]
  },
  {
   "cell_type": "code",
   "execution_count": 6,
   "metadata": {
    "collapsed": true
   },
   "outputs": [],
   "source": [
    "X = np.array([\n",
    "    [1, 0, 0, 1, 0, 0, 0, 0, 0, 1, 0, 0, 1],\n",
    "    [1, 0, 0, 0, 1, 0, 0, 1, 0, 0, 0, 0, 0],\n",
    "    [1, 0, 0, 0, 0, 1, 0, 0, 1, 0, 0, 0.5, 0.5],\n",
    "    [0, 1, 0, 0, 0, 1, 0, 0, 1, 0, 0.5, 0, 0.5],\n",
    "    [0, 1, 0, 0, 0, 0, 1, 0, 0, 1, 0, 0, 0],\n",
    "    [0, 0, 1, 1, 0, 0, 0, 1, 0, 0, 1, 0, 0],\n",
    "    [0, 0, 1, 0, 0, 1, 0, 0, 0, 1, 0.5, 0.5, 0]\n",
    "    ])\n",
    "n, m = X.shape\n",
    "Y = np.array([5, 3, 1, 4, 5, 1, 5])\n",
    "w0 = np.random.rand()\n",
    "k = 4\n",
    "V  = np.random.rand(m, k)\n",
    "    \n",
    "def funwi(W, w0 = w0, X = X, Y = Y, k = k, reg_weight = 0.01,loss = \"squared\"):\n",
    "    pred = prediction (X, w0, W, V)\n",
    "    if(loss == \"squared\"):\n",
    "        n = Y.size\n",
    "        loss = np.sum((Y - pred) ** 2)/n\n",
    "        regularizer = reg_weight * W.dot(W)\n",
    "        return loss + regularizer\n",
    "\n",
    "def gradwi (W, w0 = w0,X = X, Y = Y, k = k, reg_weight = 0.01):\n",
    "    Y = np.array(Y)\n",
    "    n,m = X.shape\n",
    "    pred = prediction(X, w0, W, V)\n",
    "    pred = np.array(pred).flatten()\n",
    "    regularizer = reg_weight * W.dot(W)\n",
    "    diff = Y - pred\n",
    "    dLdWi = -2.0/n * (diff.dot(X)).flatten() + 2 * reg_weight * W\n",
    "    return dLdWi"
   ]
  },
  {
   "cell_type": "code",
   "execution_count": 7,
   "metadata": {},
   "outputs": [
    {
     "name": "stdout",
     "output_type": "stream",
     "text": [
      "1.61977677594e-06\n"
     ]
    }
   ],
   "source": [
    "W  = np.random.rand(m)\n",
    "errwi = check_grad (funwi, gradwi, W)\n",
    "print(errwi)"
   ]
  },
  {
   "cell_type": "markdown",
   "metadata": {},
   "source": [
    "## Check gradient for V"
   ]
  },
  {
   "cell_type": "code",
   "execution_count": 24,
   "metadata": {
    "collapsed": true
   },
   "outputs": [],
   "source": [
    "X = np.array([\n",
    "    [1, 0, 0, 1, 0, 0, 0, 0, 0, 1, 0, 0, 1],\n",
    "    [1, 0, 0, 0, 1, 0, 0, 1, 0, 0, 0, 0, 0],\n",
    "    [1, 0, 0, 0, 0, 1, 0, 0, 1, 0, 0, 0.5, 0.5],\n",
    "    [0, 1, 0, 0, 0, 1, 0, 0, 1, 0, 0.5, 0, 0.5],\n",
    "    [0, 1, 0, 0, 0, 0, 1, 0, 0, 1, 0, 0, 0],\n",
    "    [0, 0, 1, 1, 0, 0, 0, 1, 0, 0, 1, 0, 0],\n",
    "    [0, 0, 1, 0, 0, 1, 0, 0, 0, 1, 0.5, 0.5, 0]\n",
    "    ])\n",
    "W  = np.random.rand(m)\n",
    "n, m = X.shape\n",
    "Y = np.array([5, 3, 1, 4, 5, 1, 5])\n",
    "w0 = np.random.rand()\n",
    "k = 4\n",
    "    \n",
    "def funV(V, w0 = w0, X = X, Y = Y, k = k, W = W, reg_weight = 0.01,loss = \"squared\"):\n",
    "    V = V.reshape(m,k)\n",
    "    pred = prediction (X, w0, W, V)\n",
    "    if(loss == \"squared\"):\n",
    "        n = Y.size\n",
    "        loss = np.sum((Y - pred) ** 2)/n\n",
    "        regularizer = reg_weight * W.dot(W)\n",
    "        return loss + regularizer\n",
    "\n",
    "def gradV (V, w0 = w0, m = m, X = X, Y = Y, k = k, W = W, reg_weight = 0.01):\n",
    "    V = V.reshape(m,k)\n",
    "    Y = np.array(Y)\n",
    "    n,m = X.shape\n",
    "    pred = prediction(X, w0, W, V)\n",
    "    pred = np.array(pred).flatten()\n",
    "    diff = Y - pred\n",
    "    regularizer = reg_weight * W.dot(W)\n",
    "    dLdV = np.zeros((m, k))\n",
    "    XV = X.dot(V) \n",
    "    for i in range(m):\n",
    "        temp = np.array(X[:,i]).reshape(-1)\n",
    "        temp2 = temp ** 2\n",
    "        for f in range(k):\n",
    "            v_ifX = V[i][f] * temp2\n",
    "            Xv_ifX = temp * (XV[:,f].reshape(-1))\n",
    "            dLdV[i][f] = diff.dot(v_ifX - Xv_ifX)\n",
    "    dLdV = dLdV * 2.0 / n\n",
    "    dLdV = dLdV.reshape(-1)\n",
    "    return dLdV\n",
    "\n",
    "def gradVVec(V, w0 = w0, m = m, X = X, Y = Y, k = k, W = W, reg_weight = 0.01):\n",
    "\n",
    "    V = V.reshape(m,k)\n",
    "    Y = np.array(Y)\n",
    "    n,m = X.shape\n",
    "    pred = prediction(X, w0, W, V)\n",
    "    pred = np.array(pred).flatten()\n",
    "    regularizer = reg_weight * W.dot(W)\n",
    "    diff = Y - pred\n",
    "\n",
    "    dLdw0 = - np.sum(diff) * 2 / n\n",
    "    dLdWi = -2.0/n * (diff.dot(X)).flatten() + 2 * reg_weight * W\n",
    "    \n",
    "    XVT = X.dot(V).T\n",
    "    xT = X.T\n",
    "    # xT2 = xT ** 2\n",
    "    diffT = diff[:, np.newaxis]\n",
    "    # v_ifX = np.empty((k,n))\n",
    "    # Xv_ifX = np.empty((k,n))\n",
    "\n",
    "    x2 = X ** 2\n",
    "\n",
    "    dLdV = np.array([])\n",
    "    times = 10\n",
    "    for i in range(times):\n",
    "        if i < times - 1:\n",
    "            v_ifXDiff = np.einsum('ij, jk -> jki', x2[i*int(n/times):(i+1)*int(n/times),:], V[:,i*int(k/times):(i+1)*int(k/times)])\n",
    "            Xv_ifX = np.einsum('ij, kj -> ikj', xT[:,i*int(n/times):(i+1)*int(n/times)], XVT[i*int(k/times):(i+1)*int(k/times),i*int(n/times):(i+1)*int(n/times)])\n",
    "            v_ifXDiff -= Xv_ifX\n",
    "            dLdV = np.append(np.einsum('ijk , kl ->ijl', v_ifXDiff, diffT[i*int(n/times):(i+1)*int(n/times)]), dLdV)\n",
    "#             dLdV.append(np.einsum('ijk , kl ->ijl', v_ifXDiff, diffT[i*int(n/times):(i+1)*int(n/times)]))\n",
    "        else:\n",
    "            v_ifXDiff = np.einsum('ij, jk -> jki', x2[i*int(n/times):,:], V[:,i*int(k/times):])\n",
    "            Xv_ifX = np.einsum('ij, kj -> ikj', xT[:,i*int(n/times):], XVT[i*int(k/times):,i*int(n/times):])\n",
    "            v_ifXDiff -= Xv_ifX\n",
    "            dLdV = np.append(np.einsum('ijk , kl ->ijl', v_ifXDiff, diffT[i*int(n/times):]), dLdV)\n",
    "#             dLdV.append(np.einsum('ijk , kl ->ijl', v_ifXDiff, diffT[i*int(n/times):]))\n",
    "\n",
    "    dLdV *= 2/n\n",
    "    dLdV = dLdV.reshape(-1)\n",
    "\n",
    "    \n",
    "#     start_time = time.time() # evaluate running time\n",
    "\n",
    "#     dLdV = np.zeros((m, k))\n",
    "#     XV = X.dot(V)\n",
    "#     xT = X.T\n",
    "#     xT2 = xT ** 2\n",
    "#     diffT = diff.reshape(n,1)\n",
    "#     for i in range(m):\n",
    "#         v_ifX = (V[i, np.newaxis].T).dot(xT2[i, np.newaxis])\n",
    "# #         v_ifX = V[i].reshape(k,-1) * xT2[i]\n",
    "#         v_ifX = (np.expand_dims(V[i], axis = 0).T).dot(np.expand_dims(xT2[i], axis = 0))\n",
    "# #         v_ifX = V[i].reshape(k,1) * np.tile(xT2[i],(k, 1)) \n",
    "# #         if i == 0:\n",
    "# #             print(V[i].shape)\n",
    "# #             print(xT2[i].shape)\n",
    "# #             print((V[i].reshape(k,1)).shape)\n",
    "# #             print(np.tile(xT2[i],(k, 1)).shape)\n",
    "# #             print ( \"v_ifX's shape is: (%d, %d)\" % (v_ifX.shape[0], v_ifX.shape[1]))\n",
    "#         Xv_ifX = ((xT[i]).reshape(n,-1) * XV).T\n",
    "#         res = (v_ifX - Xv_ifX).dot(diffT)\n",
    "#         dLdV[i] = res.ravel()\n",
    "#     dLdV = dLdV * 2.0 / n\n",
    "#     dLdV = dLdV.reshape(-1)\n",
    "    return dLdV"
   ]
  },
  {
   "cell_type": "code",
   "execution_count": 25,
   "metadata": {},
   "outputs": [
    {
     "name": "stdout",
     "output_type": "stream",
     "text": [
      "1.868001727e-06\n",
      "1.86800172695e-06\n"
     ]
    }
   ],
   "source": [
    "V  = np.random.rand(m * k)\n",
    "errV = check_grad (funV, gradV, V)\n",
    "print(errV)\n",
    "errV = check_grad (funV, gradVVec, V)\n",
    "print(errV)"
   ]
  },
  {
   "cell_type": "code",
   "execution_count": null,
   "metadata": {
    "collapsed": true
   },
   "outputs": [],
   "source": []
  },
  {
   "cell_type": "code",
   "execution_count": null,
   "metadata": {
    "collapsed": true
   },
   "outputs": [],
   "source": []
  }
 ],
 "metadata": {
  "kernelspec": {
   "display_name": "Python 3",
   "language": "python",
   "name": "python3"
  },
  "language_info": {
   "codemirror_mode": {
    "name": "ipython",
    "version": 3
   },
   "file_extension": ".py",
   "mimetype": "text/x-python",
   "name": "python",
   "nbconvert_exporter": "python",
   "pygments_lexer": "ipython3",
   "version": "3.6.1"
  }
 },
 "nbformat": 4,
 "nbformat_minor": 2
}
