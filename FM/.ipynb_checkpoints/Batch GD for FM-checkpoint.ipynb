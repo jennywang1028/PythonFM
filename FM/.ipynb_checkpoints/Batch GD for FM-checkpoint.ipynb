{
 "cells": [
  {
   "cell_type": "markdown",
   "metadata": {},
   "source": [
    "# Factorization Machine using Batch Gradient Descent"
   ]
  },
  {
   "cell_type": "markdown",
   "metadata": {},
   "source": [
    "The model equation for a factorization machine of degree d = 2 is defined as:\n",
    "\n",
    "$\\hat{y}(x) := w_0 + \\sum_{i = 1} ^ m w_i * x_i + \\sum_{i = 1} ^ m \\sum_{j = i + 1}^ m <v_i,v_j>x_ix_j$ \n",
    "\n",
    "feature X : n x m,  labels Y : 1 x n, n data points  \n",
    "parameters are w0, W, V   \n",
    "w0 is real number   \n",
    "W is m-dim vector   \n",
    "V is m x k, where k is the hyper parameter   \n"
   ]
  },
  {
   "cell_type": "code",
   "execution_count": 1,
   "metadata": {
    "collapsed": true
   },
   "outputs": [],
   "source": [
    "from BatchGD import *\n",
    "import cProfile\n",
    "import torch\n",
    "from numpy import dot, isinf, isnan, any, sqrt, isreal, real, nan, inf\n",
    "import numpy as np\n",
    "import scipy as sp\n",
    "import processData\n",
    "import matplotlib.pyplot as plt\n",
    "from sklearn.feature_extraction import DictVectorizer\n",
    "from scipy import sparse as spa\n",
    "from scipy import stats\n",
    "import time\n",
    "from minimize import minimize\n",
    "from __future__ import division"
   ]
  },
  {
   "cell_type": "code",
   "execution_count": 2,
   "metadata": {},
   "outputs": [],
   "source": [
    "%load_ext Cython\n",
    "%load_ext line_profiler\n",
    "import line_profiler"
   ]
  },
  {
   "cell_type": "markdown",
   "metadata": {},
   "source": [
    "# Profiling"
   ]
  },
  {
   "cell_type": "code",
   "execution_count": 3,
   "metadata": {},
   "outputs": [
    {
     "name": "stdout",
     "output_type": "stream",
     "text": [
      "<class 'numpy.ndarray'> (2000, 2623)\n",
      "<class 'numpy.ndarray'> (2000,)\n",
      "<class 'numpy.ndarray'> (200, 2623)\n",
      "<class 'numpy.ndarray'> (200,)\n"
     ]
    }
   ],
   "source": [
    "#loading data\n",
    "(train_data, y_train, train_users, train_items) = loadData(\"ua.base\")\n",
    "(test_data, y_test, test_users, test_items) = loadData(\"ua.test\")\n",
    "v = DictVectorizer()\n",
    "X_train = v.fit_transform(train_data)[0:2000]\n",
    "X_test = v.transform(test_data)[0:200]\n",
    "y_train = y_train[0:2000]\n",
    "y_train = np.array(y_train)\n",
    "y_test = y_test[0:200]\n",
    "\n",
    "\n",
    "X_train = np.array(X_train.todense())\n",
    "X_test = np.array(X_test.todense())\n",
    "X_train = X_train.astype(np.float32, copy=False)\n",
    "X_test = X_test.astype(np.float32, copy=False)\n",
    "print(X_train.__class__, X_train.shape)\n",
    "print(y_train.__class__, y_train.shape)\n",
    "print(X_test.__class__, X_test.shape)\n",
    "print(y_test.__class__, y_test.shape)"
   ]
  },
  {
   "cell_type": "code",
   "execution_count": 4,
   "metadata": {},
   "outputs": [],
   "source": [
    "k = 30\n",
    "nb_epochs = 4\n",
    "learning_rate = 0.1\n",
    "n, m = X_train.shape\n",
    "w0 = np.random.rand()\n",
    "W  = np.random.rand(m).astype(np.float32)\n",
    "V  = np.random.rand(m, k).astype(np.float32)\n",
    "H = compress(w0, W, V, m, k)\n",
    "n,m = X_train.shape"
   ]
  },
  {
   "cell_type": "code",
   "execution_count": 5,
   "metadata": {
    "scrolled": false
   },
   "outputs": [
    {
     "name": "stdout",
     "output_type": "stream",
     "text": [
      "194 ms ± 21.9 ms per loop (mean ± std. dev. of 3 runs, 2 loops each)\n"
     ]
    }
   ],
   "source": [
    "%timeit -n2 -r3 gradHVec(H, X_train,y_train,m, k, 0.05)"
   ]
  },
  {
   "cell_type": "code",
   "execution_count": 1,
   "metadata": {},
   "outputs": [
    {
     "name": "stderr",
     "output_type": "stream",
     "text": [
      "ERROR:root:Cell magic `%%cython` not found.\n"
     ]
    }
   ],
   "source": [
    "%%cython -a -f --compile-args=-DCYTHON_TRACE=1\n",
    "cimport cython\n",
    "cimport numpy as np\n",
    "import numpy as np\n",
    "from minimize import minimize\n",
    "\n",
    "DTYPE = np.float32\n",
    "\n",
    "ctypedef np.float32_t DTYPE_t\n",
    "\n",
    "@cython.boundscheck(False) # turn off bounds-checking for entire function\n",
    "@cython.wraparound(False)  # turn off negative index wrapping for entire function\n",
    "def predictionForOnec(np.ndarray x, np.ndarray x2, float w0, np.ndarray W, np.ndarray V_T, np.ndarray V2_T):\n",
    "    cdef float res1,res2,res3\n",
    "    res1 = np.sum(V_T.dot(x) ** 2)\n",
    "    res2 = np.sum(V2_T.dot(x2))\n",
    "    res3 = W.dot(x)\n",
    "\n",
    "    return w0 + res3 + 0.5 * (res1 - res2)\n",
    "\n",
    "@cython.boundscheck(False) # turn off bounds-checking for entire function\n",
    "@cython.wraparound(False)  # turn off negative index wrapping for entire function\n",
    "def predictionc(np.ndarray X, float w0, np.ndarray W, np.ndarray V):\n",
    "    cdef int n = X.shape[0]\n",
    "    cdef int m = X.shape[1]\n",
    "    cdef np.ndarray X2 = X ** 2\n",
    "    cdef np.ndarray V_T = V.T\n",
    "    cdef np.ndarray V2_T = (V**2).T\n",
    "\n",
    "    cdef np.ndarray res = np.zeros(n)\n",
    "    cdef int i\n",
    "    for i in range(n):\n",
    "        res[i] = predictionForOnec(X[i], X2[i], w0, W, V_T, V2_T)\n",
    "\n",
    "    return res\n",
    "\n",
    "@cython.boundscheck(False) # turn off bounds-checking for entire function\n",
    "@cython.wraparound(False)  # turn off negative index wrapping for entire function\n",
    "def extractc(np.ndarray H, int m, int k):\n",
    "    cdef double w0 = H[0]\n",
    "    cdef np.ndarray W = H[1:(m+1)]\n",
    "    cdef np.ndarray V = (H[(m+1):]).reshape(m,k)\n",
    "    return w0, W, V\n",
    "\n",
    "@cython.boundscheck(False) # turn off bounds-checking for entire function\n",
    "@cython.wraparound(False)  # turn off negative index wrapping for entire function\n",
    "def compressc(float w0, np.ndarray W,\\\n",
    "              np.ndarray V, int m, int k):\n",
    "    cdef np.ndarray res = np.array([w0])\n",
    "    res = np.append(res, W)\n",
    "    res = np.append(res, V.flatten())\n",
    "    return res    \n",
    "\n",
    "@cython.boundscheck(False) # turn off bounds-checking for entire function\n",
    "@cython.wraparound(False)  # turn off negative index wrapping for entire function\n",
    "def gradHVecc(np.ndarray H, np.ndarray X, np.ndarray Y, int m, int k,float reg_weight):\n",
    "    cdef int i,factor,times\n",
    "    cdef float w0\n",
    "    cdef np.ndarray W, pred, diff,dLdWi\n",
    "    cdef np.ndarray V, dLdV\n",
    "    cdef int n = X.shape[0]\n",
    "    cdef float dLdw0\n",
    "    cdef np.ndarray XVT,xT,diffT,x2,v_ifXDiff,Xv_ifX\n",
    "\n",
    "    Y = np.array(Y)\n",
    "    w0, W, V= extractc(H, m, k)\n",
    "\n",
    "    diff = Y - ( predictionc(X, w0, W, V) ).ravel()\n",
    "\n",
    "    dLdw0 = - np.sum(diff) * 2 / n\n",
    "    dLdWi = -2.0/n * (diff.dot(X)).flatten() + 2 * reg_weight * W\n",
    "    \n",
    "    XVT = X.dot(V).T\n",
    "    xT = X.T\n",
    "    diffT = diff[:, np.newaxis]\n",
    "    x2 = X ** 2\n",
    "    dLdV = np.array([])\n",
    "    factor = 50\n",
    "    times = int(n / factor)\n",
    "    for i in range(times):\n",
    "        if i < times - 1:\n",
    "            v_ifXDiff = np.einsum('ij, jk -> jki', x2[i*int(n/times):(i+1)*int(n/times),:], V[:,i*int(k/times):(i+1)*int(k/times)])\n",
    "            Xv_ifX = np.einsum('ij, kj -> ikj', xT[:,i*int(n/times):(i+1)*int(n/times)], XVT[i*int(k/times):(i+1)*int(k/times),i*int(n/times):(i+1)*int(n/times)])\n",
    "            v_ifXDiff -= Xv_ifX\n",
    "            dLdV = np.append(dLdV, np.einsum('ijk , kl ->ijl', v_ifXDiff, diffT[i*int(n/times):(i+1)*int(n/times)]))\n",
    "        else:\n",
    "            v_ifXDiff = np.einsum('ij, jk -> jki', x2[i*int(n/times):,:], V[:,i*int(k/times):])\n",
    "            Xv_ifX = np.einsum('ij, kj -> ikj', xT[:,i*int(n/times):], XVT[i*int(k/times):,i*int(n/times):])\n",
    "            v_ifXDiff -= Xv_ifX\n",
    "            dLdV = np.append(dLdV, np.einsum('ijk , kl ->ijl', v_ifXDiff, diffT[i*int(n/times):]))\n",
    "\n",
    "    dLdV = dLdV.reshape(m,k)\n",
    "    dLdV *= 2/n\n",
    "    \n",
    "    return compressc(dLdw0, dLdWi, dLdV, m, k)\n",
    "\n",
    "def lossHc(np.ndarray H, np.ndarray X, np.ndarray Y, int m, int k,float reg_weight):\n",
    "    cdef int n = Y.size\n",
    "    cdef float w0, regularizer, loss\n",
    "    cdef np.ndarray W, V\n",
    "    w0, W, V = extractc(H, m, k)\n",
    "    loss = np.mean((Y - predictionc(X, w0, W, V)) ** 2)\n",
    "    regularizer = reg_weight * W.dot(W)\n",
    "    return loss + regularizer"
   ]
  },
  {
   "cell_type": "code",
   "execution_count": 2,
   "metadata": {
    "collapsed": true
   },
   "outputs": [],
   "source": [
    "def runMinVecc(X,Y, w0, W, V, k, reg_weight = 0.05):\n",
    "    n = X.shape[0]\n",
    "    m = X.shape[1]\n",
    "    H = compressc(w0, W, V, m, k)\n",
    "    [newH, fx, i] = minimize(H, lossHc, gradHVecc, (X, Y, m, k, reg_weight),maxnumlinesearch=8, verbose=False)\n",
    "    H = newH\n",
    "    \n",
    "    return extractc(H, m, k)"
   ]
  },
  {
   "cell_type": "code",
   "execution_count": null,
   "metadata": {
    "collapsed": true
   },
   "outputs": [],
   "source": [
    "%timeit -n2 -r3 runMinVecc(X_train,y_train,w0, W, V, k)"
   ]
  },
  {
   "cell_type": "code",
   "execution_count": 12,
   "metadata": {},
   "outputs": [
    {
     "name": "stdout",
     "output_type": "stream",
     "text": [
      "258 ms ± 9.32 ms per loop (mean ± std. dev. of 3 runs, 2 loops each)\n"
     ]
    }
   ],
   "source": [
    "%timeit -n2 -r3 gradHVec(H, X_train,y_train,m, k, 0.05)"
   ]
  },
  {
   "cell_type": "code",
   "execution_count": 16,
   "metadata": {},
   "outputs": [
    {
     "name": "stdout",
     "output_type": "stream",
     "text": [
      "256 ms ± 14.5 ms per loop (mean ± std. dev. of 3 runs, 2 loops each)\n"
     ]
    }
   ],
   "source": [
    "%timeit -n2 -r3 gradHVecc(H, X_train,y_train,m, k, 0.05)\n",
    "# %lprun -f gradHVecc gradHVecc(H, X_train,y_train,m, k, 0.05)"
   ]
  },
  {
   "cell_type": "code",
   "execution_count": null,
   "metadata": {
    "scrolled": false
   },
   "outputs": [],
   "source": [
    "cProfile.run('runMinVecc(X_train,y_train,w0, W, V, k)')"
   ]
  },
  {
   "cell_type": "code",
   "execution_count": 6,
   "metadata": {
    "scrolled": false
   },
   "outputs": [
    {
     "name": "stdout",
     "output_type": "stream",
     "text": [
      "         19214 function calls in 6.280 seconds\n",
      "\n",
      "   Ordered by: standard name\n",
      "\n",
      "   ncalls  tottime  percall  cumtime  percall filename:lineno(function)\n",
      "        1    0.000    0.000    6.280    6.280 <string>:1(<module>)\n",
      "       25    0.000    0.000    0.006    0.000 BatchGD.py:135(compress)\n",
      "       49    0.000    0.000    0.001    0.000 BatchGD.py:143(extract)\n",
      "       24    0.001    0.000    1.888    0.079 BatchGD.py:153(lossH)\n",
      "       48    0.451    0.009    3.714    0.077 BatchGD.py:24(prediction)\n",
      "       24    0.359    0.015    4.068    0.169 BatchGD.py:274(gradHVec)\n",
      "        1    0.001    0.001    6.280    6.280 BatchGD.py:315(runMinVec)\n",
      "      144    0.000    0.000    0.010    0.000 _methods.py:31(_sum)\n",
      "       14    0.000    0.000    0.000    0.000 _methods.py:37(_any)\n",
      "     2880    0.002    0.000    0.886    0.000 einsumfunc.py:703(einsum)\n",
      "     1010    0.001    0.000    0.003    0.000 fromnumeric.py:1364(ravel)\n",
      "      144    0.002    0.000    0.013    0.000 fromnumeric.py:1710(sum)\n",
      "       14    0.000    0.000    0.001    0.000 fromnumeric.py:1866(any)\n",
      "     1010    0.002    0.000    0.014    0.000 function_base.py:4951(append)\n",
      "        1    0.318    0.318    6.278    6.278 minimize.py:44(minimize)\n",
      "       24    0.000    0.000    0.000    0.000 numeric.py:463(asarray)\n",
      "     2046    0.001    0.000    0.002    0.000 numeric.py:534(asanyarray)\n",
      "        6    0.000    0.000    0.000    0.000 type_check.py:107(real)\n",
      "        6    0.000    0.000    0.000    0.000 type_check.py:141(imag)\n",
      "        6    0.000    0.000    0.000    0.000 type_check.py:207(isreal)\n",
      "       34    0.000    0.000    0.000    0.000 {built-in method builtins.abs}\n",
      "        1    0.000    0.000    6.280    6.280 {built-in method builtins.exec}\n",
      "     1154    0.001    0.000    0.001    0.000 {built-in method builtins.isinstance}\n",
      "        9    0.000    0.000    0.000    0.000 {built-in method builtins.max}\n",
      "       17    0.000    0.000    0.000    0.000 {built-in method builtins.min}\n",
      "     2143    0.002    0.000    0.002    0.000 {built-in method numpy.core.multiarray.array}\n",
      "     2880    0.884    0.000    0.884    0.000 {built-in method numpy.core.multiarray.c_einsum}\n",
      "     1010    0.008    0.000    0.008    0.000 {built-in method numpy.core.multiarray.concatenate}\n",
      "       56    0.003    0.000    0.003    0.000 {built-in method numpy.core.multiarray.dot}\n",
      "       14    0.000    0.000    0.000    0.000 {method 'any' of 'numpy.ndarray' objects}\n",
      "        8    0.000    0.000    0.000    0.000 {method 'append' of 'list' objects}\n",
      "        1    0.000    0.000    0.000    0.000 {method 'disable' of '_lsprof.Profiler' objects}\n",
      "      216    4.230    0.020    4.230    0.020 {method 'dot' of 'numpy.ndarray' objects}\n",
      "       25    0.001    0.000    0.001    0.000 {method 'flatten' of 'numpy.ndarray' objects}\n",
      "     2880    0.001    0.000    0.001    0.000 {method 'pop' of 'dict' objects}\n",
      "     1058    0.001    0.000    0.001    0.000 {method 'ravel' of 'numpy.ndarray' objects}\n",
      "      158    0.010    0.000    0.010    0.000 {method 'reduce' of 'numpy.ufunc' objects}\n",
      "       73    0.000    0.000    0.000    0.000 {method 'reshape' of 'numpy.ndarray' objects}\n",
      "\n",
      "\n"
     ]
    }
   ],
   "source": [
    "cProfile.run('runMinVec(X_train,y_train,w0, W, V, k)')"
   ]
  },
  {
   "cell_type": "markdown",
   "metadata": {},
   "source": [
    "# Using dataset from Steffen Rendle's Factorization Machine Paper"
   ]
  },
  {
   "cell_type": "code",
   "execution_count": 6,
   "metadata": {},
   "outputs": [
    {
     "name": "stdout",
     "output_type": "stream",
     "text": [
      "X: (7, 13)\n",
      "y: (7,)\n"
     ]
    }
   ],
   "source": [
    "nb_epochs = 300\n",
    "k = 4\n",
    "X = np.array([\n",
    "    [1, 0, 0, 1, 0, 0, 0, 0, 0, 1, 0, 0, 1],\n",
    "    [1, 0, 0, 0, 1, 0, 0, 1, 0, 0, 0, 0, 0],\n",
    "    [1, 0, 0, 0, 0, 1, 0, 0, 1, 0, 0, 0.5, 0.5],\n",
    "    [0, 1, 0, 0, 0, 1, 0, 0, 1, 0, 0.5, 0, 0.5],\n",
    "    [0, 1, 0, 0, 0, 0, 1, 0, 0, 1, 0, 0, 0],\n",
    "    [0, 0, 1, 1, 0, 0, 0, 1, 0, 0, 1, 0, 0],\n",
    "    [0, 0, 1, 0, 0, 1, 0, 0, 0, 1, 0.5, 0.5, 0]\n",
    "    ])\n",
    "Y = np.array([5, 3, 1, 4, 5, 1, 5])\n",
    "print(\"X:\", X.shape)\n",
    "print(\"y:\", Y.shape)"
   ]
  },
  {
   "cell_type": "code",
   "execution_count": 8,
   "metadata": {},
   "outputs": [],
   "source": [
    "n, m = X.shape\n",
    "w0 = np.random.rand()\n",
    "W  = np.random.rand(m)\n",
    "V  = np.random.rand(m, k)\n",
    "epo_losses = []\n",
    "correctness = []\n",
    "for i in range(nb_epochs):\n",
    "    pred = prediction(X, w0, W, V)\n",
    "    epo_losses.append(L(Y,pred,W))\n",
    "#     print(\"correctness is:{}\".format(crtness(Y, pred)))\n",
    "    correctness.append(crtness(Y, pred))\n",
    "    w0, W, V = runMinVec(X,Y,w0, W, V, k)"
   ]
  },
  {
   "cell_type": "code",
   "execution_count": 9,
   "metadata": {
    "collapsed": true
   },
   "outputs": [],
   "source": [
    "def fm(X, Y, w0, W, V, k, nb_epochs):\n",
    "    for i in range(nb_epochs):\n",
    "        pred = prediction(X, w0, W, V)\n",
    "        epo_losses.append(L(Y,pred,W))\n",
    "    #     print(\"correctness is:{}\".format(crtness(Y, pred)))\n",
    "        correctness.append(crtness(Y, pred))\n",
    "        w0, W, V = runMinVec(X,Y,w0, W, V, k)"
   ]
  },
  {
   "cell_type": "code",
   "execution_count": 10,
   "metadata": {},
   "outputs": [
    {
     "data": {
      "image/png": "[encoded data removed]",
      "text/plain": [
       "<matplotlib.figure.Figure at 0x10fcf3128>"
      ]
     },
     "metadata": {},
     "output_type": "display_data"
    }
   ],
   "source": [
    "plt.figure(figsize = (12,6))\n",
    "plt.subplot(121)\n",
    "plt.plot(range(len(epo_losses)), epo_losses)\n",
    "plt.title(\"Training losses (epoch)\")\n",
    "plt.subplot(122)\n",
    "plt.plot(range(len(correctness)), correctness)\n",
    "plt.title(\"Training correctness (epoch)\")\n",
    "plt.show()"
   ]
  },
  {
   "cell_type": "markdown",
   "metadata": {},
   "source": [
    "# 100k Dataset"
   ]
  },
  {
   "cell_type": "code",
   "execution_count": 11,
   "metadata": {},
   "outputs": [
    {
     "name": "stdout",
     "output_type": "stream",
     "text": [
      "<class 'numpy.ndarray'> (90570, 2623)\n",
      "<class 'numpy.ndarray'> (90570,)\n",
      "<class 'numpy.ndarray'> (9430, 2623)\n",
      "<class 'numpy.ndarray'> (9430,)\n"
     ]
    }
   ],
   "source": [
    "def loadData(filename,path=\"../ml-100k/\"):\n",
    "    data = []\n",
    "    y = []\n",
    "    users=set()\n",
    "    items=set()\n",
    "    with open(path+filename) as f:\n",
    "        for line in f:\n",
    "            (user,movieid,rating,ts)=line.split('\\t')\n",
    "            data.append({ \"user_id\": str(user), \"movie_id\": str(movieid)})\n",
    "            y.append(float(rating))\n",
    "            users.add(user)\n",
    "            items.add(movieid)\n",
    "\n",
    "    return (data, np.array(y), users, items)\n",
    "\n",
    "(train_data, y_train, train_users, train_items) = loadData(\"ua.base\")\n",
    "(test_data, y_test, test_users, test_items) = loadData(\"ua.test\")\n",
    "v = DictVectorizer()\n",
    "X_train = v.fit_transform(train_data)\n",
    "X_test = v.transform(test_data)\n",
    "y_train = y_train\n",
    "y_train = np.array(y_train)\n",
    "y_test = y_test\n",
    "\n",
    "X_train = np.array(X_train.todense())\n",
    "X_test = np.array(X_test.todense())\n",
    "print(X_train.__class__, X_train.shape)\n",
    "print(y_train.__class__, y_train.shape)\n",
    "print(X_test.__class__, X_test.shape)\n",
    "print(y_test.__class__, y_test.shape)"
   ]
  },
  {
   "cell_type": "code",
   "execution_count": 12,
   "metadata": {
    "collapsed": true
   },
   "outputs": [],
   "source": [
    "k = 10\n",
    "nb_epochs = 4\n",
    "n, m = X_train.shape\n",
    "w0 = np.random.rand()\n",
    "W  = np.random.rand(m)\n",
    "V  = np.random.rand(m, k)\n",
    "epo_losses = []\n",
    "correctness = []\n",
    "rmse = []\n",
    "avg_dist = []\n",
    "mode,_ = stats.mode(y_train)\n",
    "mode_pred = np.full(len(y_test), mode , dtype = int)\n",
    "mode_crt = crtness(y_test, mode_pred)\n",
    "mode_rmse = RMSE(y_test, mode_pred)\n",
    "mode_avgdist = avgdist(y_test, mode_pred)\n",
    "mean_pred = np.full(len(y_test), np.mean(y_train))\n",
    "mean_crt = crtness(y_test, mean_pred)\n",
    "mean_rmse = RMSE(y_test, mean_pred)\n",
    "mean_avgdist = avgdist(y_test, mean_pred)"
   ]
  },
  {
   "cell_type": "code",
   "execution_count": null,
   "metadata": {},
   "outputs": [
    {
     "name": "stdout",
     "output_type": "stream",
     "text": [
      "running epoch0\n",
      "loss is:1.7508376060204363\n",
      "running epoch1\n"
     ]
    }
   ],
   "source": [
    "for i in range(nb_epochs):\n",
    "    print(\"running epoch{}\".format(i))\n",
    "    w0, W, V = runMinVec(X_train,y_train,w0, W, V, k)\n",
    "    pred = prediction(X_test, w0, W, V)\n",
    "    print(\"loss is:{}\".format(L(y_test, pred,W)))\n",
    "    epo_losses.append(L(y_test, pred, W))\n",
    "#     print(\"y_test: \", y_test, \"pred: \", pred)\n",
    "#     print(\"correctness is:{}\".format(crtness(y_test, pred)))\n",
    "    correctness.append(crtness(y_test, pred))\n",
    "    rmse.append(RMSE(y_test, pred))\n",
    "    avg_dist.append(avgdist(y_test, pred))"
   ]
  },
  {
   "cell_type": "code",
   "execution_count": 6,
   "metadata": {},
   "outputs": [
    {
     "data": {
      "image/png": "[encoded data removed]",
      "text/plain": [
       "<matplotlib.figure.Figure at 0x111812a58>"
      ]
     },
     "metadata": {},
     "output_type": "display_data"
    }
   ],
   "source": [
    "plt.figure(figsize = (12,6))\n",
    "plt.subplot(221)\n",
    "plt.plot(range(len(epo_losses)), epo_losses)\n",
    "plt.title(\"Training losses (epoch)\")\n",
    "plt.subplot(222)\n",
    "plt.plot(range(len(correctness)), correctness)\n",
    "plt.axhline(y = mode_crt, xmin = 0, xmax = len(correctness) - 1, color = 'green' )\n",
    "plt.axhline(y = mean_crt, xmin = 0, xmax = len(correctness) - 1, color = 'red' )\n",
    "plt.title(\"Training correctness (epoch)\")\n",
    "plt.subplot(223)\n",
    "plt.plot(range(len(rmse)), rmse)\n",
    "plt.axhline(y = mode_rmse, xmin = 0, xmax = len(correctness) - 1, color = 'green' )\n",
    "plt.axhline(y = mean_rmse, xmin = 0, xmax = len(correctness) - 1, color = 'red' )\n",
    "plt.title(\"RMSE (epoch)\")\n",
    "plt.subplot(224)\n",
    "plt.plot(range(len(avg_dist)), avg_dist)\n",
    "plt.axhline(y = mode_avgdist, xmin = 0, xmax = len(correctness) - 1, color = 'green' )\n",
    "plt.axhline(y = mean_avgdist, xmin = 0, xmax = len(correctness) - 1, color = 'red' )\n",
    "plt.title(\"Training avg distance(epoch)\")\n",
    "plt.show()"
   ]
  },
  {
   "cell_type": "code",
   "execution_count": 8,
   "metadata": {},
   "outputs": [
    {
     "name": "stdout",
     "output_type": "stream",
     "text": [
      "running epoch0\n",
      "loss is:0.9727635803191322\n",
      "running epoch1\n",
      "loss is:0.9692819932591663\n",
      "running epoch2\n",
      "loss is:0.9789602612758954\n",
      "running epoch3\n",
      "loss is:0.9754503484395941\n"
     ]
    }
   ],
   "source": [
    "for i in range(nb_epochs):\n",
    "    print(\"running epoch{}\".format(i))\n",
    "    w0, W, V = runMinVec(X_train,y_train,w0, W, V, k)\n",
    "    pred = prediction(X_test, w0, W, V)\n",
    "    print(\"loss is:{}\".format(L(y_test, pred,W)))\n",
    "    epo_losses.append(L(y_test, pred, W))\n",
    "#     print(\"y_test: \", y_test, \"pred: \", pred)\n",
    "#     print(\"correctness is:{}\".format(crtness(y_test, pred)))\n",
    "    correctness.append(crtness(y_test, pred))\n",
    "    rmse.append(RMSE(y_test, pred))\n",
    "    avg_dist.append(avgdist(y_test, pred))"
   ]
  },
  {
   "cell_type": "code",
   "execution_count": 9,
   "metadata": {},
   "outputs": [
    {
     "name": "stdout",
     "output_type": "stream",
     "text": [
      "[1.0624635199951209, 0.99860166658170457, 0.986520629011302, 0.98313191491147389, 0.98613261294406751, 0.98441581117343757, 0.98923565888202036, 0.98753182231499437]\n"
     ]
    }
   ],
   "source": [
    "print(rmse)"
   ]
  },
  {
   "cell_type": "code",
   "execution_count": 10,
   "metadata": {},
   "outputs": [
    {
     "data": {
      "image/png": "[encoded data removed]",
      "text/plain": [
       "<matplotlib.figure.Figure at 0x111ab7630>"
      ]
     },
     "metadata": {},
     "output_type": "display_data"
    }
   ],
   "source": [
    "plt.figure(figsize = (12,6))\n",
    "plt.subplot(221)\n",
    "plt.plot(range(len(epo_losses)), epo_losses)\n",
    "plt.title(\"Training losses (epoch)\")\n",
    "plt.subplot(222)\n",
    "plt.plot(range(len(correctness)), correctness)\n",
    "plt.axhline(y = mode_crt, xmin = 0, xmax = len(correctness) - 1, color = 'green' )\n",
    "plt.axhline(y = mean_crt, xmin = 0, xmax = len(correctness) - 1, color = 'red' )\n",
    "plt.title(\"Training correctness (epoch)\")\n",
    "plt.subplot(223)\n",
    "plt.plot(range(len(rmse)), rmse)\n",
    "plt.axhline(y = mode_rmse, xmin = 0, xmax = len(correctness) - 1, color = 'green' )\n",
    "plt.axhline(y = mean_rmse, xmin = 0, xmax = len(correctness) - 1, color = 'red' )\n",
    "plt.title(\"RMSE (epoch)\")\n",
    "plt.subplot(224)\n",
    "plt.plot(range(len(avg_dist)), avg_dist)\n",
    "plt.axhline(y = mode_avgdist, xmin = 0, xmax = len(correctness) - 1, color = 'green' )\n",
    "plt.axhline(y = mean_avgdist, xmin = 0, xmax = len(correctness) - 1, color = 'red' )\n",
    "plt.title(\"Training avg distance(epoch)\")\n",
    "plt.show()"
   ]
  },
  {
   "cell_type": "code",
   "execution_count": null,
   "metadata": {
    "collapsed": true
   },
   "outputs": [],
   "source": []
  }
 ],
 "metadata": {
  "kernelspec": {
   "display_name": "Python 3",
   "language": "python",
   "name": "python3"
  },
  "language_info": {
   "codemirror_mode": {
    "name": "ipython",
    "version": 3
   },
   "file_extension": ".py",
   "mimetype": "text/x-python",
   "name": "python",
   "nbconvert_exporter": "python",
   "pygments_lexer": "ipython3",
   "version": "3.6.1"
  }
 },
 "nbformat": 4,
 "nbformat_minor": 1
}
